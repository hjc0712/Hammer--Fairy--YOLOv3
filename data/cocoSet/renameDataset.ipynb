{
 "cells": [
  {
   "cell_type": "code",
   "execution_count": 7,
   "metadata": {},
   "outputs": [],
   "source": [
    "file1 = open(\"trainvalno5k2.part\",\"w\") \n",
    "with open('trainvalno5k.part') as fp:\n",
    "    cnt = 0\n",
    "    for line in fp:\n",
    "        line = line[1:]\n",
    "        file1.writelines(line)\n",
    "    \n",
    "        "
   ]
  },
  {
   "cell_type": "code",
   "execution_count": 1,
   "metadata": {},
   "outputs": [],
   "source": [
    "file2 = open(\"5k2.part\",\"w\") \n",
    "with open('5k.part') as fp:\n",
    "    cnt = 0\n",
    "    for line in fp:\n",
    "        line = line[1:]\n",
    "        file2.writelines(line)"
   ]
  },
  {
   "cell_type": "code",
   "execution_count": null,
   "metadata": {},
   "outputs": [],
   "source": []
  }
 ],
 "metadata": {
  "kernelspec": {
   "display_name": "Python 3",
   "language": "python",
   "name": "python3"
  },
  "language_info": {
   "codemirror_mode": {
    "name": "ipython",
    "version": 3
   },
   "file_extension": ".py",
   "mimetype": "text/x-python",
   "name": "python",
   "nbconvert_exporter": "python",
   "pygments_lexer": "ipython3",
   "version": "3.7.3"
  }
 },
 "nbformat": 4,
 "nbformat_minor": 2
}
